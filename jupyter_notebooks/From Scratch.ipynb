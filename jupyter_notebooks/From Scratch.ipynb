{
 "cells": [
  {
   "cell_type": "code",
   "execution_count": 2,
   "metadata": {},
   "outputs": [],
   "source": [
    "%reload_ext autoreload\n",
    "%autoreload 2\n",
    "%matplotlib inline\n",
    "\n",
    "\n",
    "from mnist import mnist\n",
    "from ldl.algorithms import *\n",
    "from ldl.predictions import *\n",
    "from ldl.network import Network\n",
    "from ldl.utitlities import *\n",
    "import numpy as np\n"
   ]
  },
  {
   "cell_type": "code",
   "execution_count": 10,
   "metadata": {},
   "outputs": [],
   "source": [
    "x_train, t_train, x_test, t_test = mnist.load()\n",
    "\n",
    "train_data = normalize_2d_array(x_train[:40000])\n",
    "val_data = normalize_2d_array(x_train[40001:])\n",
    "test_data = normalize_2d_array(x_test)\n",
    "\n",
    "train_labels = t_train[:40000]\n",
    "val_labels = t_train[40001:]\n",
    "test_labels = t_test\n",
    "\n",
    "# Convert labels to targets for output neurons\n",
    "train_targets = np.zeros([train_labels.shape[0], 10])\n",
    "for index, label in enumerate(train_labels):\n",
    "    train_targets[index, label] = 1\n",
    "\n",
    "val_targets = np.zeros([val_labels.shape[0], 10])\n",
    "for index, label in enumerate(val_labels):\n",
    "    val_targets[index, label] = 1\n",
    "    \n",
    "test_targets = np.zeros([test_labels.shape[0], 10])\n",
    "for index, label in enumerate(test_labels):\n",
    "    test_targets[index, label] = 1\n"
   ]
  },
  {
   "cell_type": "markdown",
   "metadata": {},
   "source": [
    "### Unvectorized Relu Function\n",
    "Notice how slowly this runs compared to the default vectorized version"
   ]
  },
  {
   "cell_type": "code",
   "execution_count": 16,
   "metadata": {},
   "outputs": [],
   "source": [
    "\n",
    "def unvectorized_relu(weighted_input):\n",
    "    '''\n",
    "    A very slow and inefficient Relu function\n",
    "    '''\n",
    "    data = np.copy(weighted_input)\n",
    "    num_rows = weighted_input.shape[0]\n",
    "    num_columns = weighted_input.shape[1]\n",
    "    \n",
    "    for row in range(num_rows):\n",
    "        for column in range(num_columns):\n",
    "          data[row, column] = data[row, column] * data[row, column] > 0  \n",
    "    return data\n",
    "\n",
    "network = Network(weights=weights, biases=biases, name=name)\n",
    "\n",
    "network.activation_fun = unvectorized_relu"
   ]
  },
  {
   "cell_type": "code",
   "execution_count": 20,
   "metadata": {},
   "outputs": [
    {
     "name": "stdout",
     "output_type": "stream",
     "text": [
      "Epoch: 1, \tTrain cost: 4.50000, Val cost: 4.50000, Test cost: 4.50000, Test error: 90.200%\n",
      "Epoch: 2, \tTrain cost: 4.50000, Val cost: 4.50000, Test cost: 4.50000, Test error: 90.200%\n",
      "Epoch: 3, \tTrain cost: 4.50000, Val cost: 4.50000, Test cost: 4.50000, Test error: 90.200%\n",
      "Epoch: 4, \tTrain cost: 4.50000, Val cost: 4.50000, Test cost: 4.50000, Test error: 90.200%\n",
      "Epoch: 5, \tTrain cost: 4.50000, Val cost: 4.50000, Test cost: 4.50000, Test error: 90.200%\n",
      "Epoch: 6, \tTrain cost: 4.50000, Val cost: 4.50000, Test cost: 4.50000, Test error: 90.200%\n",
      "Epoch: 7, \tTrain cost: 4.50000, Val cost: 4.50000, Test cost: 4.50000, Test error: 90.200%\n",
      "Epoch: 8, \tTrain cost: 4.50000, Val cost: 4.50000, Test cost: 4.50000, Test error: 90.200%\n",
      "Epoch: 9, \tTrain cost: 4.50000, Val cost: 4.50000, Test cost: 4.50000, Test error: 90.200%\n",
      "Epoch: 10, \tTrain cost: 4.50000, Val cost: 4.50000, Test cost: 4.50000, Test error: 90.200%\n",
      "Unvectorized activation function ran 10 Epochs in 99.12315011024475 seconds\n"
     ]
    },
    {
     "data": {
      "image/png": "[encoded data removed]",
      "text/plain": [
       "<Figure size 432x288 with 1 Axes>"
      ]
     },
     "metadata": {
      "needs_background": "light"
     },
     "output_type": "display_data"
    }
   ],
   "source": [
    "import time\n",
    "\n",
    "shape = [784, 100, 10]\n",
    "\n",
    "biases = get_relu_biases(shape)\n",
    "weights = get_relu_weights(shape)\n",
    "epochs=10\n",
    "\n",
    "learning_rate = 0.03\n",
    "name = 'Random Initialization 0 - 1'\n",
    "\n",
    "network = Network(weights=weights, biases=biases, name=name)\n",
    "\n",
    "network.activation_fun = unvectorized_relu\n",
    "\n",
    "start = time.time()\n",
    "results = network.train_and_validate(epochs, train_data, train_targets, val_data, val_targets, test_data, test_targets, test_labels, learning_rate)\n",
    "end = time.time()\n",
    "total_time = end - start\n",
    "print(f'Unvectorized activation function ran {epochs} Epochs in {total_time} seconds')\n"
   ]
  },
  {
   "cell_type": "markdown",
   "metadata": {},
   "source": [
    "### Default vectorized activation function"
   ]
  },
  {
   "cell_type": "code",
   "execution_count": 21,
   "metadata": {},
   "outputs": [
    {
     "name": "stdout",
     "output_type": "stream",
     "text": [
      "Epoch: 1, \tTrain cost: 1.14722, Val cost: 0.60859, Test cost: 0.60836, Test error: 91.420%\n",
      "Epoch: 2, \tTrain cost: 0.60904, Val cost: 0.55570, Test cost: 0.55488, Test error: 89.720%\n",
      "Epoch: 3, \tTrain cost: 0.55582, Val cost: 0.53068, Test cost: 0.52969, Test error: 88.390%\n",
      "Epoch: 4, \tTrain cost: 0.53073, Val cost: 0.51528, Test cost: 0.51418, Test error: 87.010%\n",
      "Epoch: 5, \tTrain cost: 0.51529, Val cost: 0.50441, Test cost: 0.50330, Test error: 85.760%\n",
      "Epoch: 6, \tTrain cost: 0.50441, Val cost: 0.49602, Test cost: 0.49498, Test error: 84.750%\n",
      "Epoch: 7, \tTrain cost: 0.49608, Val cost: 0.48922, Test cost: 0.48823, Test error: 83.440%\n",
      "Epoch: 8, \tTrain cost: 0.48936, Val cost: 0.48351, Test cost: 0.48255, Test error: 82.320%\n",
      "Epoch: 9, \tTrain cost: 0.48373, Val cost: 0.47856, Test cost: 0.47769, Test error: 81.430%\n",
      "Epoch: 10, \tTrain cost: 0.47889, Val cost: 0.47419, Test cost: 0.47340, Test error: 80.730%\n",
      "Vectorized activation function ran 10 Epochs in 7.146703720092773 seconds\n"
     ]
    },
    {
     "data": {
      "image/png": "[encoded data removed]",
      "text/plain": [
       "<Figure size 432x288 with 1 Axes>"
      ]
     },
     "metadata": {
      "needs_background": "light"
     },
     "output_type": "display_data"
    }
   ],
   "source": [
    "import time\n",
    "\n",
    "shape = [784, 100, 10]\n",
    "\n",
    "biases = get_relu_biases(shape)\n",
    "weights = get_relu_weights(shape)\n",
    "epochs=10\n",
    "\n",
    "learning_rate = 0.03\n",
    "name = 'Random Initialization 0 - 1'\n",
    "\n",
    "network = Network(weights=weights, biases=biases, name=name)\n",
    "\n",
    "start = time.time()\n",
    "results = network.train_and_validate(epochs, train_data, train_targets, val_data, val_targets, test_data, test_targets, test_labels, learning_rate)\n",
    "end = time.time()\n",
    "total_time = end - start\n",
    "print(f'Vectorized activation function ran {epochs} Epochs in {total_time} seconds')\n"
   ]
  }
 ],
 "metadata": {
  "kernelspec": {
   "display_name": "Python 3",
   "language": "python",
   "name": "python3"
  },
  "language_info": {
   "codemirror_mode": {
    "name": "ipython",
    "version": 3
   },
   "file_extension": ".py",
   "mimetype": "text/x-python",
   "name": "python",
   "nbconvert_exporter": "python",
   "pygments_lexer": "ipython3",
   "version": "3.6.6"
  }
 },
 "nbformat": 4,
 "nbformat_minor": 2
}
